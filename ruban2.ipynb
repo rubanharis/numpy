{
 "cells": [
  {
   "cell_type": "code",
   "execution_count": 2,
   "metadata": {},
   "outputs": [
    {
     "name": "stdout",
     "output_type": "stream",
     "text": [
      "Array is  [ 0  2 37  8]\n"
     ]
    }
   ],
   "source": [
    "import numpy as np\n",
    "arr=np.array([0,2,37,8])\n",
    "print (type(arr))\n",
    "print (\"Array is \",arr)"
   ]
  },
  {
   "cell_type": "code",
   "execution_count": 13,
   "metadata": {},
   "outputs": [
    {
     "name": "stdout",
     "output_type": "stream",
     "text": [
      "(4,)\n",
      "0\n",
      "70\n",
      "37\n",
      "8\n",
      "[ 0 70 37  8]\n"
     ]
    }
   ],
   "source": [
    "\n",
    "print (arr.shape)\n",
    "for i in range(len(arr)):\n",
    "    print (arr[i])\n",
    "arr[1]=70\n",
    "print (arr)"
   ]
  },
  {
   "cell_type": "code",
   "execution_count": 14,
   "metadata": {},
   "outputs": [
    {
     "name": "stdout",
     "output_type": "stream",
     "text": [
      "Dimension of the array (2, 3)\n",
      "Elements of the 2D array [[0 1 2]\n",
      " [3 4 5]]\n"
     ]
    }
   ],
   "source": [
    "import numpy as np\n",
    "arr1 = np.array([[0,1,2],[3,4,5]])\n",
    "print (\"Dimension of the array\", arr1.shape)\n",
    "print (\"Elements of the 2D array\",arr1) "
   ]
  },
  {
   "cell_type": "code",
   "execution_count": 18,
   "metadata": {},
   "outputs": [
    {
     "name": "stdout",
     "output_type": "stream",
     "text": [
      "0 1 3\n"
     ]
    }
   ],
   "source": [
    "print (arr1[0, 0], arr1[0, 1], arr1[1, 0])"
   ]
  },
  {
   "cell_type": "code",
   "execution_count": 16,
   "metadata": {},
   "outputs": [
    {
     "name": "stdout",
     "output_type": "stream",
     "text": [
      "Inital array [[0. 0. 0.]\n",
      " [0. 0. 0.]\n",
      " [0. 0. 0.]]\n",
      "[[1. 1.]\n",
      " [1. 1.]]\n",
      "[[9 9]\n",
      " [9 9]\n",
      " [9 9]]\n",
      "[[0.5978504  0.16852965 0.40730106]\n",
      " [0.03155778 0.88647329 0.99612252]\n",
      " [0.05179086 0.71744941 0.84171598]]\n",
      "[[1. 0. 0. 0.]\n",
      " [0. 1. 0. 0.]\n",
      " [0. 0. 1. 0.]\n",
      " [0. 0. 0. 1.]]\n"
     ]
    }
   ],
   "source": [
    "a = np.zeros((3,3))\n",
    "print (\"Inital array\",a)\n",
    "\n",
    "b = np.ones((2,2))\n",
    "print (b)\n",
    "\n",
    "c = np.full((3,2),9)\n",
    "print (c)\n",
    "\n",
    "d = np.random.random((3,3))\n",
    "print (d)\n",
    "\n",
    "e = np.eye(4)\n",
    "print (e)"
   ]
  },
  {
   "cell_type": "code",
   "execution_count": 19,
   "metadata": {},
   "outputs": [
    {
     "name": "stdout",
     "output_type": "stream",
     "text": [
      "x['a'].shape:  (3, 3)\n",
      "(x['a'].dtype:  int32\n",
      "x['b'].shape:  (3, 3, 3, 3)\n",
      "x['b'].dtype:  float64\n"
     ]
    }
   ],
   "source": [
    "x = np.zeros((3,3), dtype=[('a', np.int32), ('b', np.float64, (3,3))])\n",
    "print (\"x['a'].shape: \",x['a'].shape)\n",
    "print (\"(x['a'].dtype: \", x['a'].dtype)\n",
    "print (\"x['b'].shape: \", x['b'].shape)\n",
    "print (\"x['b'].dtype: \", x['b'].dtype)\n",
    "\n"
   ]
  },
  {
   "cell_type": "code",
   "execution_count": 20,
   "metadata": {},
   "outputs": [
    {
     "name": "stdout",
     "output_type": "stream",
     "text": [
      "[6 7 8 9]\n",
      "[8 9]\n",
      "[9 8 7]\n"
     ]
    }
   ],
   "source": [
    "x = np.array([5, 6, 7, 8, 9])\n",
    "print (x[1:5:1]    )    \n",
    "print (x[-2:5])\n",
    "print (x[-1:1:-1])"
   ]
  },
  {
   "cell_type": "code",
   "execution_count": 21,
   "metadata": {},
   "outputs": [
    {
     "name": "stdout",
     "output_type": "stream",
     "text": [
      "[0 1 2 3 4 5 6 7 8 9]\n",
      "[[0. 1. 2.]\n",
      " [0. 0. 0.]\n",
      " [1. 3. 2.]]\n",
      "[1. 2. 3. 4. 5. 6. 7.]\n",
      "[2.   2.25 2.5  2.75 3.   3.25 3.5  3.75 4.  ]\n",
      "Indices\n",
      "Dimension is  (2, 3, 2)\n",
      "[[[0 0]\n",
      "  [1 1]\n",
      "  [2 2]]\n",
      "\n",
      " [[0 1]\n",
      "  [0 1]\n",
      "  [0 1]]]\n"
     ]
    }
   ],
   "source": [
    "import numpy as np\n",
    "g = np.arange(10)\n",
    "print (g)\n",
    "\n",
    "h = np.array([[0,1,2.0],[0,0,0],(1,3.,2.)])\n",
    "print (h)\n",
    "\n",
    "i = np.arange(1, 8, dtype=np.float)\n",
    "print (i)\n",
    "j = np.linspace(2., 4.,9)\n",
    "print (j)\n",
    "print (\"Indices\")\n",
    "k = np.indices((3,2))\n",
    "\n",
    "print (\"Dimension is \",k.shape)\n",
    "print (k)"
   ]
  },
  {
   "cell_type": "code",
   "execution_count": null,
   "metadata": {},
   "outputs": [],
   "source": []
  }
 ],
 "metadata": {
  "kernelspec": {
   "display_name": "Python 3",
   "language": "python",
   "name": "python3"
  },
  "language_info": {
   "codemirror_mode": {
    "name": "ipython",
    "version": 3
   },
   "file_extension": ".py",
   "mimetype": "text/x-python",
   "name": "python",
   "nbconvert_exporter": "python",
   "pygments_lexer": "ipython3",
   "version": "3.7.0"
  }
 },
 "nbformat": 4,
 "nbformat_minor": 2
}
